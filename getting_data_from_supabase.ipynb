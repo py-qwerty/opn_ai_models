{
 "cells": [
  {
   "cell_type": "markdown",
   "metadata": {},
   "source": [
    "# Dowloading from supabase user data"
   ]
  },
  {
   "cell_type": "code",
   "execution_count": 3,
   "metadata": {},
   "outputs": [],
   "source": [
    "# Librarys\n",
    "import os\n",
    "import sys\n",
    "import time\n",
    "import pandas as pd\n",
    "import numpy as np\n",
    "import matplotlib.pyplot as plt\n",
    "from sklearn.model_selection import train_test_split\n",
    "from sklearn.preprocessing import StandardScaler"
   ]
  },
  {
   "cell_type": "code",
   "execution_count": 7,
   "metadata": {},
   "outputs": [],
   "source": [
    "from dotenv import load_dotenv\n",
    "import os\n",
    "import supabase\n",
    "\n",
    "load_dotenv()\n",
    "\n",
    "supa_url = os.getenv(\"SUPABASE_URL\")\n",
    "supa_key = os.getenv(\"SUPABASE_SERVICE_ROL_KEY\")\n",
    "\n",
    "# ----- Supabase connection -----\n",
    "client = supabase.Client(supa_url, supa_key)\n"
   ]
  },
  {
   "cell_type": "code",
   "execution_count": 11,
   "metadata": {},
   "outputs": [],
   "source": [
    "# ----- Supabase query -----\n",
    "\n",
    "# Get all the rows from the table user_tests, users, ranking_specials\n",
    "user_tests = client.from_(\"user_tests\").select(\"*\").execute()\n",
    "users = client.from_(\"users\").select(\"*\").execute()\n",
    "ranking_specials = client.from_(\"ranking_specials\").select(\"*\").execute()"
   ]
  },
  {
   "cell_type": "code",
   "execution_count": 16,
   "metadata": {},
   "outputs": [],
   "source": [
    "# get the data from the tables questions, topics, user_test_answers\n",
    "questions = client.from_(\"questions\").select(\"*\").execute()\n",
    "topics = client.from_(\"topics\").select(\"*\").execute()\n",
    "user_test_answers = client.from_(\"user_test_answers\").select(\"*\").execute()\n"
   ]
  },
  {
   "cell_type": "code",
   "execution_count": 24,
   "metadata": {},
   "outputs": [
    {
     "name": "stdout",
     "output_type": "stream",
     "text": [
      "The user_tests table has 126991 rows\n",
      "The users table has 9149 rows\n",
      "The ranking_specials table has 19625 rows\n",
      "The questions table has 9044 rows\n",
      "The topics table has 164 rows\n",
      "The user_test_answers table has 1000000 rows\n"
     ]
    }
   ],
   "source": [
    "print(f'The user_tests table has {len(user_tests.data)} rows')\n",
    "print(f'The users table has {len(users.data)} rows')\n",
    "print(f'The ranking_specials table has {len(ranking_specials.data)} rows')\n",
    "print(f'The questions table has {len(questions.data)} rows')\n",
    "print(f'The topics table has {len(topics.data)} rows')\n",
    "print(f'The user_test_answers table has {len(user_test_answers)} rows')\n"
   ]
  },
  {
   "cell_type": "code",
   "execution_count": 39,
   "metadata": {},
   "outputs": [
    {
     "name": "stdout",
     "output_type": "stream",
     "text": [
      "Data saved in CSV files\n"
     ]
    }
   ],
   "source": [
    "import csv\n",
    "\n",
    "# Function to save data as CSV\n",
    "def save_as_csv(filename, data):\n",
    "    if not data:  # Check if data is empty\n",
    "        print(f\"No data to save for {filename}\")\n",
    "        return\n",
    "    \n",
    "    keys = data[0].keys()  # Get the header from the first row\n",
    "    with open(filename, 'w', newline='', encoding='utf-8') as f:\n",
    "        writer = csv.DictWriter(f, fieldnames=keys)\n",
    "        writer.writeheader()\n",
    "        writer.writerows(data)\n",
    "\n",
    "# Save data in CSV files\n",
    "save_as_csv('user_tests.csv', user_tests.data)\n",
    "save_as_csv('users.csv', users.data)\n",
    "save_as_csv('ranking_specials.csv', ranking_specials.data)\n",
    "save_as_csv('questions.csv', questions.data)\n",
    "save_as_csv('topics.csv', topics.data)\n",
    "save_as_csv('user_test_answers.csv', user_test_answers)\n",
    "\n",
    "print('Data saved in CSV files')\n"
   ]
  },
  {
   "cell_type": "code",
   "execution_count": 4,
   "metadata": {},
   "outputs": [],
   "source": [
    "user_tests = pd.read_csv('user_tests.csv')\n",
    "users = pd.read_csv('users.csv')\n",
    "ranking_specials = pd.read_csv('ranking_specials.csv')\n",
    "questions = pd.read_csv('questions.csv')\n",
    "topics = pd.read_csv('topics.csv')\n",
    "user_test_answers = pd.read_csv('user_test_answers.csv')\n"
   ]
  }
 ],
 "metadata": {
  "kernelspec": {
   "display_name": ".venv",
   "language": "python",
   "name": "python3"
  },
  "language_info": {
   "codemirror_mode": {
    "name": "ipython",
    "version": 3
   },
   "file_extension": ".py",
   "mimetype": "text/x-python",
   "name": "python",
   "nbconvert_exporter": "python",
   "pygments_lexer": "ipython3",
   "version": "3.11.9"
  }
 },
 "nbformat": 4,
 "nbformat_minor": 2
}
